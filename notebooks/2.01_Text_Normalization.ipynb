{
 "cells": [
  {
   "cell_type": "markdown",
   "metadata": {},
   "source": [
    "<div style=\"background-color: #ffffff; color: #000000; padding: 10px;\">\n",
    "<img src=\"../media/img/kisz_logo.png\" width=\"192\" height=\"69\"> \n",
    "<h1> NLP Fundamentals\n",
    "<h2> Working with Embeddings\n",
    "</div>"
   ]
  },
  {
   "cell_type": "markdown",
   "metadata": {},
   "source": [
    "<div style=\"background-color: #f6a800; color: #ffffff; padding: 10px;\">\n",
    "<h2>Part 2.1 - Text Normalization\n",
    "</div>\n",
    "\n",
    "In this part we are going to see how to turn texts into a collection of smaller pieces, tokens, that we will use for building numerical representations of our texts. In our way to find good ways of tokenizing texts we will be facing some common problems and we will discuss possible solutions. At the end, we will build a pipeline for tokenizing and serialize the pipeline and the tokenized texts.\n",
    "\n",
    "We start importing some packages."
   ]
  },
  {
   "cell_type": "code",
   "execution_count": 14,
   "metadata": {
    "tags": []
   },
   "outputs": [],
   "source": [
    "# imports\n",
    "import pandas as pd\n",
    "from datasets import load_dataset\n",
    "\n",
    "import warnings\n",
    "warnings.filterwarnings('ignore')\n",
    "\n",
    "# import config variables for the notebooks\n",
    "from nb_config import RAW_DATA_PATH, INTERIM_DATA_PATH"
   ]
  },
  {
   "cell_type": "markdown",
   "metadata": {},
   "source": [
    "<div style=\"background-color: #dd6108; color: #ffffff; padding: 10px;\">\n",
    "<h3>1. Overview\n",
    "</div>\n",
    "\n",
    "We are going to work with real data and with a concrete problem in mind: retrieving information from a collection of objects, each described with a text, based on a query written by the user. Let's formulate the problem in a more precise way.\n",
    "\n",
    "\n",
    "\n",
    "\n",
    "<div style=\"background-color: #b1063a; color: #ffffff; padding: 10px;\">\n",
    "<strong>Challenge</strong>\n",
    "\n",
    "\n",
    "As a developer for the cutting-edge movie platform HBFlix, your task is to implement a semantic search feature that enables users to input a description or query, and in return, receive a list of films that match as close as possible the query based on semantic similarities. The movie database at your disposal consists of around three thousand films, each accompanied by release year and a concise publicity descriptor of the movie.\n",
    "</div>\n",
    "\n",
    "The dataset is a reduced version of [Kaggle's The Movies Dataset](https://www.kaggle.com/datasets/rounakbanik/the-movies-dataset). We have kept only film names, release years and film descriptors. Also, because some of the models that we are going to use don't perform well on big datasets, we have filtered out.\n",
    "\n",
    "As we are going to make a lot of experiments with this data, we will save the dataframe in parquet format for easy access. We will also rename the column 'overview' with the name 'descriptor'.\n",
    "\n",
    "><details>\n",
    "><summary>Do you need more data?</summary>\n",
    ">You can load a bigger unfiltered version of this dataset, with the same structure but including descriptors for around 45.000 films with this code:\n",
    ">\n",
    "><code>full_df = load_dataset('mt0rm0/movie_descriptors', split='train').to_pandas()</code>\n",
    "></details>"
   ]
  },
  {
   "cell_type": "code",
   "execution_count": 15,
   "metadata": {},
   "outputs": [
    {
     "data": {
      "text/html": [
       "<div>\n",
       "<style scoped>\n",
       "    .dataframe tbody tr th:only-of-type {\n",
       "        vertical-align: middle;\n",
       "    }\n",
       "\n",
       "    .dataframe tbody tr th {\n",
       "        vertical-align: top;\n",
       "    }\n",
       "\n",
       "    .dataframe thead th {\n",
       "        text-align: right;\n",
       "    }\n",
       "</style>\n",
       "<table border=\"1\" class=\"dataframe\">\n",
       "  <thead>\n",
       "    <tr style=\"text-align: right;\">\n",
       "      <th></th>\n",
       "      <th>title</th>\n",
       "      <th>release_year</th>\n",
       "      <th>descriptor</th>\n",
       "    </tr>\n",
       "  </thead>\n",
       "  <tbody>\n",
       "    <tr>\n",
       "      <th>0</th>\n",
       "      <td>Toy Story</td>\n",
       "      <td>1995</td>\n",
       "      <td>Led by Woody, Andy's toys live happily in his ...</td>\n",
       "    </tr>\n",
       "    <tr>\n",
       "      <th>1</th>\n",
       "      <td>Jumanji</td>\n",
       "      <td>1995</td>\n",
       "      <td>When siblings Judy and Peter discover an encha...</td>\n",
       "    </tr>\n",
       "    <tr>\n",
       "      <th>2</th>\n",
       "      <td>Heat</td>\n",
       "      <td>1995</td>\n",
       "      <td>Obsessive master thief, Neil McCauley leads a ...</td>\n",
       "    </tr>\n",
       "    <tr>\n",
       "      <th>3</th>\n",
       "      <td>GoldenEye</td>\n",
       "      <td>1995</td>\n",
       "      <td>James Bond must unmask the mysterious head of ...</td>\n",
       "    </tr>\n",
       "    <tr>\n",
       "      <th>4</th>\n",
       "      <td>The American President</td>\n",
       "      <td>1995</td>\n",
       "      <td>Widowed U.S. president Andrew Shepherd, one of...</td>\n",
       "    </tr>\n",
       "    <tr>\n",
       "      <th>...</th>\n",
       "      <td>...</td>\n",
       "      <td>...</td>\n",
       "      <td>...</td>\n",
       "    </tr>\n",
       "    <tr>\n",
       "      <th>2860</th>\n",
       "      <td>Atomic Blonde</td>\n",
       "      <td>2017</td>\n",
       "      <td>An undercover MI6 agent is sent to Berlin duri...</td>\n",
       "    </tr>\n",
       "    <tr>\n",
       "      <th>2861</th>\n",
       "      <td>Dunkirk</td>\n",
       "      <td>2017</td>\n",
       "      <td>The miraculous evacuation of Allied soldiers f...</td>\n",
       "    </tr>\n",
       "    <tr>\n",
       "      <th>2862</th>\n",
       "      <td>Pokémon: Spell of the Unknown</td>\n",
       "      <td>2000</td>\n",
       "      <td>When Molly Hale's sadness of her father's disa...</td>\n",
       "    </tr>\n",
       "    <tr>\n",
       "      <th>2863</th>\n",
       "      <td>Transformers: The Last Knight</td>\n",
       "      <td>2017</td>\n",
       "      <td>Autobots and Decepticons are at war, with huma...</td>\n",
       "    </tr>\n",
       "    <tr>\n",
       "      <th>2864</th>\n",
       "      <td>Wind River</td>\n",
       "      <td>2017</td>\n",
       "      <td>An FBI agent teams with the town's veteran gam...</td>\n",
       "    </tr>\n",
       "  </tbody>\n",
       "</table>\n",
       "<p>2865 rows × 3 columns</p>\n",
       "</div>"
      ],
      "text/plain": [
       "                              title  release_year  \\\n",
       "0                         Toy Story          1995   \n",
       "1                           Jumanji          1995   \n",
       "2                              Heat          1995   \n",
       "3                         GoldenEye          1995   \n",
       "4            The American President          1995   \n",
       "...                             ...           ...   \n",
       "2860                  Atomic Blonde          2017   \n",
       "2861                        Dunkirk          2017   \n",
       "2862  Pokémon: Spell of the Unknown          2000   \n",
       "2863  Transformers: The Last Knight          2017   \n",
       "2864                     Wind River          2017   \n",
       "\n",
       "                                             descriptor  \n",
       "0     Led by Woody, Andy's toys live happily in his ...  \n",
       "1     When siblings Judy and Peter discover an encha...  \n",
       "2     Obsessive master thief, Neil McCauley leads a ...  \n",
       "3     James Bond must unmask the mysterious head of ...  \n",
       "4     Widowed U.S. president Andrew Shepherd, one of...  \n",
       "...                                                 ...  \n",
       "2860  An undercover MI6 agent is sent to Berlin duri...  \n",
       "2861  The miraculous evacuation of Allied soldiers f...  \n",
       "2862  When Molly Hale's sadness of her father's disa...  \n",
       "2863  Autobots and Decepticons are at war, with huma...  \n",
       "2864  An FBI agent teams with the town's veteran gam...  \n",
       "\n",
       "[2865 rows x 3 columns]"
      ]
     },
     "execution_count": 15,
     "metadata": {},
     "output_type": "execute_result"
    }
   ],
   "source": [
    "# Loading the dataset\n",
    "df = load_dataset('mt0rm0/movie_descriptors_small', split='train').to_pandas()\n",
    "df.rename(columns={'overview': 'descriptor'}, inplace=True)\n",
    "\n",
    "# save the dataframe in parquet format\n",
    "df.to_parquet(RAW_DATA_PATH + 'movie_descriptors.parquet')\n",
    "\n",
    "# show the dataframe\n",
    "df"
   ]
  },
  {
   "cell_type": "markdown",
   "metadata": {},
   "source": [
    "<div style=\"background-color: #dd6108; color: #ffffff; padding: 10px;\">\n",
    "<h3>2. Tokenization\n",
    "</div>\n",
    "\n",
    "Tokenization is the process of breaking down a text or a sequence of characters into smaller units, often words or subwords, referred to as tokens. In Natural Language Processing (NLP), tokenization is a crucial step in preparing textual data for analysis. The resulting tokens serve as the basic building blocks for various NLP tasks, allowing algorithms to process and understand the structure of the text.\n",
    "\n",
    "Let's start taking a look to the texts we are going to work with, the descriptors for the movies in our list. The first one looks like this:"
   ]
  },
  {
   "cell_type": "code",
   "execution_count": 16,
   "metadata": {},
   "outputs": [
    {
     "data": {
      "text/plain": [
       "\"Led by Woody, Andy's toys live happily in his room until Andy's birthday brings Buzz Lightyear onto the scene. Afraid of losing his place in Andy's heart, Woody plots against Buzz. But when circumstances separate Buzz and Woody from their owner, the duo eventually learns to put aside their differences.\""
      ]
     },
     "execution_count": 16,
     "metadata": {},
     "output_type": "execute_result"
    }
   ],
   "source": [
    "df.descriptor[0]"
   ]
  },
  {
   "cell_type": "markdown",
   "metadata": {},
   "source": [
    "Time to get our hands dirty!\n",
    "\n",
    "\n",
    "<div style=\"background-color: #b1063a; color: #ffffff; padding: 10px;\">\n",
    "<strong>Exercise</strong>\n",
    "\n",
    "Let's keep it easy and just split the text using whitespaces as reference. Each splitted string will be a token. Add then to our dataframe a column called *tokens* that contains the list of tokens for each movie.\n",
    "</div>\n",
    "\n",
    "Write your code in the cell below.\n",
    "\n",
    "><details>\n",
    "><summary>Do you need some help?</summary>\n",
    "><br>\n",
    ">You can split strings in python with the <kbd>split()</kbd> method applied to a string.\n",
    "></details>\n",
    "\n",
    "<br>\n",
    "\n",
    "\n",
    "><details>\n",
    "><summary>Maybe a bit more of help?</summary>\n",
    "><br>\n",
    ">You can apply a method elementwise to a series or dataframe column with the <kbd>map()</kbd> method and a lambda function.\n",
    "></details>\n",
    "\n",
    "<br>\n",
    "\n",
    "\n",
    "> <details>\n",
    "> <summary>Got completely stuck? Here there are some possible solutions</summary>\n",
    "> \n",
    "> This line of code would work:<br>\n",
    "> <code>df['tokens'] = df['descriptor'].map(lambda x: x.split(' '))</code>\n",
    "> </details>"
   ]
  },
  {
   "cell_type": "code",
   "execution_count": 17,
   "metadata": {},
   "outputs": [
    {
     "data": {
      "text/plain": [
       "0       Ellipsis\n",
       "1       Ellipsis\n",
       "2       Ellipsis\n",
       "3       Ellipsis\n",
       "4       Ellipsis\n",
       "          ...   \n",
       "2860    Ellipsis\n",
       "2861    Ellipsis\n",
       "2862    Ellipsis\n",
       "2863    Ellipsis\n",
       "2864    Ellipsis\n",
       "Name: tokens, Length: 2865, dtype: object"
      ]
     },
     "execution_count": 17,
     "metadata": {},
     "output_type": "execute_result"
    }
   ],
   "source": [
    "df['tokens'] = ... # Your solution here\n",
    "\n",
    "# Show the tokens\n",
    "df.tokens"
   ]
  },
  {
   "cell_type": "markdown",
   "metadata": {},
   "source": [
    "If we check the output for the first descriptor, we can already see some problems with this method...\n",
    "\n",
    "\n",
    "<div style=\"background-color: #b1063a; color: #ffffff; padding: 10px;\">\n",
    "<strong>Exercise</strong>\n",
    "\n",
    "Take a look to the output for other descriptors. Then, take a couple of minutes to discuss with your neighbour where have you found problems and how would we fix them.\n",
    "</div>"
   ]
  },
  {
   "cell_type": "code",
   "execution_count": 18,
   "metadata": {},
   "outputs": [
    {
     "name": "stdout",
     "output_type": "stream",
     "text": [
      "Ellipsis\n"
     ]
    }
   ],
   "source": [
    "# change the index in the next line (any number from 0 to 2864 would do)\n",
    "# to check the tokens for other films\n",
    "print(df.tokens[0])"
   ]
  },
  {
   "cell_type": "markdown",
   "metadata": {},
   "source": [
    "**Problems found**: \n",
    "- ...\n",
    "- ...\n",
    "- ...\n",
    "- ...\n",
    "\n",
    "**How to solve these problems**:\n",
    "- ...\n",
    "- ...\n",
    "- ...\n",
    "- ..."
   ]
  },
  {
   "cell_type": "markdown",
   "metadata": {},
   "source": [
    "<div style=\"background-color: #dd6108; color: #ffffff; padding: 10px;\">\n",
    "<h3>3. Ways to improve our tokens\n",
    "</div>\n",
    "\n",
    "We will focus now on how to improve our tokens so we can extract as much information as possible from them.\n",
    "\n",
    "For making it a bit easier for you, we have implemented a better version of the simple tokenizer that you have written in the last section. This tokenizer accounts for some of the problems, like:\n",
    "- newline escape characters\n",
    "- commas and dots at the end of a word\n",
    "- empty strings/tokens\n",
    "\n",
    "You can import this tokenizer from <kbd>src.normalizing</kbd>. If you want, Feel free to take a look to the code and try to understand how <kbd>SimpleTokenizer</kbd> works.\n",
    "\n",
    "The following code shows how to use it."
   ]
  },
  {
   "cell_type": "code",
   "execution_count": 19,
   "metadata": {},
   "outputs": [
    {
     "data": {
      "text/plain": [
       "0       [Led, by, Woody, Andy's, toys, live, happily, ...\n",
       "1       [When, siblings, Judy, and, Peter, discover, a...\n",
       "2       [Obsessive, master, thief, Neil, McCauley, lea...\n",
       "3       [James, Bond, must, unmask, the, mysterious, h...\n",
       "4       [Widowed, US, president, Andrew, Shepherd, one...\n",
       "                              ...                        \n",
       "2860    [An, undercover, MI6, agent, is, sent, to, Ber...\n",
       "2861    [The, miraculous, evacuation, of, Allied, sold...\n",
       "2862    [When, Molly, Hale's, sadness, of, her, father...\n",
       "2863    [Autobots, and, Decepticons, are, at, war, wit...\n",
       "2864    [An, FBI, agent, teams, with, the, town's, vet...\n",
       "Name: tokens, Length: 2865, dtype: object"
      ]
     },
     "execution_count": 19,
     "metadata": {},
     "output_type": "execute_result"
    }
   ],
   "source": [
    "from src.normalizing import SimpleTokenizer\n",
    "\n",
    "# instantiate the SimpleTokenizer\n",
    "st = SimpleTokenizer()\n",
    "\n",
    "# apply the tokenizer to our text\n",
    "df.loc[:, 'tokens'] = df.descriptor.map(lambda x: st.tokenize(x))\n",
    "\n",
    "# show the tokens\n",
    "df.tokens"
   ]
  },
  {
   "cell_type": "markdown",
   "metadata": {},
   "source": [
    "We can see that they are still not perfect, but it looks much better.\n",
    "\n",
    "There are, of course, a lot of ways for tokenizing our texts, but we don't even need to do it ourselves. Examples of common tokenizer implementations are:\n",
    "- **Python**: str.split, re.split\n",
    "- **NLTK**: PennTreeBankTokenizer, TweetTokenizer\n",
    "- **spaCy**: Tokenizer class, fully customizable\n",
    "- **Stanford CoreNLP**: linguistically accurate, requires Java interpreter\n",
    "- **Huggingface**: BertTokenizer\n",
    "\n",
    "We have prepared for you in the module <kbd>src.normalizing</kbd> a standard Spacy tokenizer and the NLTK PennTreeBank tokenizer.\n",
    "You can find them with the names <kbd>SpaCyTokenizer</kbd> and <kbd>NLTKTokenizer</kbd>."
   ]
  },
  {
   "cell_type": "code",
   "execution_count": 20,
   "metadata": {},
   "outputs": [],
   "source": [
    "from src.normalizing import SpaCyTokenizer, NLTKTokenizer"
   ]
  },
  {
   "cell_type": "markdown",
   "metadata": {},
   "source": [
    "You can see how to use them in the next lines. Tokenizing the whole data set would take quite a few minutes so we are going to check only the tokens for the first movie.\n",
    "\n",
    "> <details>\n",
    "> <summary>About the SpacyTokenizer</summary>\n",
    "> \n",
    ">  We have preloaded only the small SpaCy tokenizer, but you could load tokenizers of different sizes using as parameter <kbd>size='md'</kbd> for medium size or <kbd>size='lg'</kbd> for the largest model, when instantiating the SpacyTokenizer as shown:\n",
    ">\n",
    "> <pre><code># use 'sm' for small (default)\n",
    "> # 'md' for medium or 'lg' for large  \n",
    "> tokenizer = SpaCyTokenizer(size='lg')\n",
    "> </code></pre>\n",
    "> \n",
    "> </details>\n",
    "\n"
   ]
  },
  {
   "cell_type": "code",
   "execution_count": 21,
   "metadata": {},
   "outputs": [
    {
     "name": "stdout",
     "output_type": "stream",
     "text": [
      "['Led', 'by', 'Woody', ',', 'Andy', \"'s\", 'toys', 'live', 'happily', 'in', 'his', 'room', 'until', 'Andy', \"'s\", 'birthday', 'brings', 'Buzz', 'Lightyear', 'onto', 'the', 'scene', '.', 'Afraid', 'of', 'losing', 'his', 'place', 'in', 'Andy', \"'s\", 'heart', ',', 'Woody', 'plots', 'against', 'Buzz', '.', 'But', 'when', 'circumstances', 'separate', 'Buzz', 'and', 'Woody', 'from', 'their', 'owner', ',', 'the', 'duo', 'eventually', 'learns', 'to', 'put', 'aside', 'their', 'differences', '.']\n"
     ]
    }
   ],
   "source": [
    "# Instantiate the tokenizer you want to use: SpacyTokenizer or NLTKTokenizer \n",
    "tokenizer = SpaCyTokenizer()\n",
    "\n",
    "# Apply the tokenizer to the first abstract as example\n",
    "tokens = tokenizer.tokenize(df.descriptor[0])\n",
    "print(tokens)"
   ]
  },
  {
   "cell_type": "markdown",
   "metadata": {},
   "source": [
    "<div style=\"background-color: #dd6108; color: #ffffff; padding: 10px;\">\n",
    "<h3>4. Lemmatization and stemming\n",
    "</div>\n",
    "\n",
    "**Lemmatization** is a technique that involves reducing words to their base or canonical form, known as the \"lemma.\" The lemma represents the dictionary form or the base form of a word, which is often a valid word that can be found in the language's dictionary.\n",
    "\n",
    "Lemmatization is different from **stemming**, another text normalization technique. While stemming involves cutting off prefixes or suffixes of words to obtain a root form (which may not always be a valid word), lemmatization aims to transform words to their base form, preserving their meaning and ensuring that the resulting lemma is a valid word in the language.\n",
    "\n",
    "For example:\n",
    "- The lemma of \"running\" is \"run\" and the stem is \"run\"\n",
    "- The lemma of \"better\" is \"good\" and the stem is \"bett\" (stemming doesn't always produce valid words)\n",
    "- The lemma of \"mice\" is \"mouse\" and the stem is \"mice\"\n",
    "\n",
    "We have prepared a lemmatizer and some stemmers as alternatives to our simple tokenizer:\n",
    "\n",
    "The SpaCy lemmatizer is implemented as part of the SpaCyTokenizer in the module <kbd>src.normalizing</kbd>. **Instead of** using the method <kbd>tokenize</kbd>, you can use the method <kbd>lemmatize</kbd>. "
   ]
  },
  {
   "cell_type": "code",
   "execution_count": 22,
   "metadata": {},
   "outputs": [
    {
     "name": "stdout",
     "output_type": "stream",
     "text": [
      "['lead', 'by', 'Woody', ',', 'Andy', \"'s\", 'toy', 'live', 'happily', 'in', 'his', 'room', 'until', 'Andy', \"'s\", 'birthday', 'bring', 'Buzz', 'Lightyear', 'onto', 'the', 'scene', '.', 'afraid', 'of', 'lose', 'his', 'place', 'in', 'Andy', \"'s\", 'heart', ',', 'woody', 'plot', 'against', 'Buzz', '.', 'but', 'when', 'circumstance', 'separate', 'Buzz', 'and', 'Woody', 'from', 'their', 'owner', ',', 'the', 'duo', 'eventually', 'learn', 'to', 'put', 'aside', 'their', 'difference', '.']\n"
     ]
    }
   ],
   "source": [
    "# Instantiate the SpacyTokenizer \n",
    "tokenizer = SpaCyTokenizer()\n",
    "\n",
    "# Apply the lemmatizer to the first abstract as example\n",
    "tokens = tokenizer.lemmatize(df.descriptor[0])\n",
    "print(tokens)"
   ]
  },
  {
   "cell_type": "markdown",
   "metadata": {},
   "source": [
    "The stemmers work on a token list and can be found as methods of the class <kbd>WordTools</kbd> in the <kbd>src.utils</kbd> module.\n",
    "\n",
    "Two different stemmers have been implemented:\n",
    "- The Porter stemmer (<kbd>porter_stemmer()</kbd>)\n",
    "- The Snowball stemmer (<kbd>snowball_stemmer()</kbd>)"
   ]
  },
  {
   "cell_type": "code",
   "execution_count": 23,
   "metadata": {},
   "outputs": [
    {
     "name": "stdout",
     "output_type": "stream",
     "text": [
      "['led', 'by', 'woodi', ',', 'andi', 's', 'toy', 'live', 'happili', 'in', 'hi', 'room', 'until', 'andi', 's', 'birthday', 'bring', 'buzz', 'lightyear', 'onto', 'the', 'scene', '.', 'afraid', 'of', 'lose', 'hi', 'place', 'in', 'andi', 's', 'heart', ',', 'woodi', 'plot', 'against', 'buzz', '.', 'but', 'when', 'circumst', 'separ', 'buzz', 'and', 'woodi', 'from', 'their', 'owner', ',', 'the', 'duo', 'eventu', 'learn', 'to', 'put', 'asid', 'their', 'differ', '.']\n"
     ]
    }
   ],
   "source": [
    "from src.utils import WordTools\n",
    "\n",
    "# Instantiate the SpacyTokenizer \n",
    "tokenizer = SpaCyTokenizer()\n",
    "\n",
    "# Apply the lemmatizer to the first abstract as example\n",
    "tokens = tokenizer.tokenize(df.descriptor[0])\n",
    "\n",
    "# Apply the stemmer\n",
    "tokens = WordTools.porter_stemmer(tokens)\n",
    "\n",
    "print(tokens)"
   ]
  },
  {
   "cell_type": "markdown",
   "metadata": {},
   "source": [
    "<div style=\"background-color: #dd6108; color: #ffffff; padding: 10px;\">\n",
    "<h3>5. Stop words\n",
    "</div>\n",
    "\n",
    "Stop words are common words in a language that are often filtered out during text preprocessing because they are considered to be of little value in terms of conveying meaning. Examples of stop words in English include \"the,\" \"and,\" \"is,\" \"of,\" etc. Stop words can vary depending on the language.\n",
    "\n",
    "In natural language processing, it's common to remove stop words from text data to reduce noise and improve the efficiency of downstream tasks. The NLTK library in Python provides a list of common stop words for various languages.\n",
    "\n",
    "We provide a tool for removing stop words using the NLTK stop word filter. You can find it as method of the class <kbd>WordTools</kbd> in the <kbd>src.utils</kbd> module."
   ]
  },
  {
   "cell_type": "code",
   "execution_count": 24,
   "metadata": {},
   "outputs": [
    {
     "name": "stdout",
     "output_type": "stream",
     "text": [
      "['Led', 'Woody', ',', 'Andy', \"'s\", 'toys', 'live', 'happily', 'room', 'Andy', \"'s\", 'birthday', 'brings', 'Buzz', 'Lightyear', 'onto', 'scene', '.', 'Afraid', 'losing', 'place', 'Andy', \"'s\", 'heart', ',', 'Woody', 'plots', 'Buzz', '.', 'But', 'circumstances', 'separate', 'Buzz', 'Woody', 'owner', ',', 'duo', 'eventually', 'learns', 'put', 'aside', 'differences', '.']\n"
     ]
    }
   ],
   "source": [
    "# Instantiate the SpacyTokenizer \n",
    "tokenizer = SpaCyTokenizer()\n",
    "\n",
    "# Apply the lemmatizer to the first abstract as example\n",
    "tokens = tokenizer.tokenize(df.descriptor[0])\n",
    "\n",
    "# Apply the stemmer\n",
    "tokens = WordTools.stopword_filter(tokens)\n",
    "\n",
    "print(tokens)"
   ]
  },
  {
   "cell_type": "markdown",
   "metadata": {},
   "source": [
    "<div style=\"background-color: #dd6108; color: #ffffff; padding: 10px;\">\n",
    "<h3>6. Case folding\n",
    "</div>\n",
    "\n",
    "Case folding is a text normalization technique that involves converting all the characters in a piece of text to a common, usually lowercase, form. The purpose of case folding is to ensure consistency and facilitate comparisons, as it makes the text case-insensitive.\n",
    "\n",
    "You can find a tool for case folding as method of the class <kbd>WordTools</kbd> in the <kbd>src.utils</kbd> module."
   ]
  },
  {
   "cell_type": "code",
   "execution_count": 25,
   "metadata": {},
   "outputs": [],
   "source": [
    "# Instantiate the SpacyTokenizer \n",
    "tokenizer = SpaCyTokenizer()\n",
    "\n",
    "# Apply the lemmatizer to the first abstract as example\n",
    "tokens = tokenizer.tokenize(df.descriptor[0])\n",
    "\n",
    "# Apply the stemmer\n",
    "tokens = WordTools.case_folding(tokens)\n",
    "\n",
    "print(tokens)"
   ]
  },
  {
   "cell_type": "markdown",
   "metadata": {},
   "source": [
    "<div style=\"background-color: #dd6108; color: #ffffff; padding: 10px;\">\n",
    "<h3>7. Building our own normalization pipeline\n",
    "</div>\n",
    "\n",
    "We can choose now some of these tools to create our tokens.\n",
    "\n",
    "As the SpaCy and NLTK tokenizers take considerably more time than the simple tokenizer, we are going to stick to this last one for now. We will not stem or lemmatize but we will use case folding and remove the stop words."
   ]
  },
  {
   "cell_type": "code",
   "execution_count": null,
   "metadata": {},
   "outputs": [],
   "source": [
    "# Instantiate the SimpleTokenizer\n",
    "st = SimpleTokenizer()\n",
    "\n",
    "# Apply the tokenizer to our text\n",
    "print(\"Tokenizing...\")\n",
    "%timeit -r1 df.loc[:, 'tokens'] = df.descriptor.map(lambda x: st.tokenize(x))\n",
    "\n",
    "# Remove the stop words\n",
    "print(\"Removing stop words...\")\n",
    "%timeit -r1 df.loc[:, 'tokens'] = df.descriptor.map(lambda x: WordTools.stopword_filter(x))\n",
    "\n",
    "# Case folding\n",
    "print(\"Case folding...\")\n",
    "%timeit -r1 df.loc[:, 'tokens'] = df.descriptor.map(lambda x: WordTools.case_folding(x))\n",
    "\n",
    "# Removing punctuation signs\n",
    "print(\"Removing punctuation signs...\")\n",
    "%timeit -r1 df.loc[:, 'tokens'] = df.descriptor.map(lambda x: WordTools.punct_remover(x))"
   ]
  },
  {
   "cell_type": "markdown",
   "metadata": {},
   "source": [
    "We have now a way of tokenizing our texts, and we have applied that system to all our texts. Is that enough?\n",
    "\n",
    "Well, the answer is no.\n",
    "\n",
    "We will also want to be able to tokenize our queries using exactly the same method we used for tokenize the descriptors, right?\n",
    "\n",
    "<div style=\"background-color: #b1063a; color: #ffffff; padding: 10px;\">\n",
    "<strong>Exercise</strong>\n",
    "\n",
    "Create a function called <kbd>pipeline</kbd> that gets as input a text and returns as ouput a list of tokens following the same steps we used before.\n",
    "</div>\n",
    "\n",
    "<br>\n",
    "\n",
    "> <details>\n",
    "> <summary>Not working at all? Take a look here</summary>\n",
    "> \n",
    "> This could be a basic implementation of the function:\n",
    "> <pre><code>\n",
    "> def pipeline(text:str):\n",
    ">     # instantiate the SimpleTokenizer\n",
    ">     st = SimpleTokenizer()<br>\n",
    ">     # apply the tokenizer to our text\n",
    ">     tokens = st.tokenize(text)<br>\n",
    ">     # remove the stop words\n",
    ">     tokens = WordTools.stopword_filter(tokens)<br>\n",
    ">     # case folding\n",
    ">     tokens = WordTools.case_folding(tokens)<br>\n",
    ">     # Removing punctuation signs\n",
    ">     tokens = WordTools.punct_remover(tokens)<br>\n",
    ">     return tokens\n",
    "> </code></pre>\n",
    "> </details>"
   ]
  },
  {
   "cell_type": "code",
   "execution_count": null,
   "metadata": {},
   "outputs": [],
   "source": [
    "# your code here below\n",
    "def pipeline(text: str) -> list[str]:\n",
    "    pass"
   ]
  },
  {
   "cell_type": "markdown",
   "metadata": {},
   "source": [
    "<div style=\"background-color: #dd6108; color: #ffffff; padding: 10px;\">\n",
    "<h3>8. Automatizing the process\n",
    "</div>\n",
    "\n",
    "Do you want to experiment with different pipelines by implementing different combinations of the functions before? \n",
    "\n",
    "No worries. We have prepared for you a function called <kbd>normalize()</kbd> in the module <kbd>src.normalizing</kbd>. With that function you can choose different settings for your pipeline by adjusting the input parameters. It will output for each text a dictionary with the parameters and a list with the tokens.\n",
    "\n",
    "You can see with the next code how does it work."
   ]
  },
  {
   "cell_type": "code",
   "execution_count": null,
   "metadata": {},
   "outputs": [],
   "source": [
    "from src.normalizing import normalize\n",
    "\n",
    "import pandas as pd\n",
    "\n",
    "# load the data\n",
    "df = pd.read_parquet(RAW_DATA_PATH+'movie_descriptors.parquet')\n",
    "\n",
    "# instantiate the SimpleTokenizer\n",
    "tkn = NLTKTokenizer()\n",
    "\n",
    "# normalize the texts\n",
    "%timeit -r1 df.loc[:, 'tokens'] = df.descriptor.map(lambda x: normalize(x, tkn=tkn, punct_signs=True)[1])"
   ]
  },
  {
   "cell_type": "markdown",
   "metadata": {},
   "source": [
    "Don't forget to save your tokenized data!"
   ]
  },
  {
   "cell_type": "code",
   "execution_count": null,
   "metadata": {},
   "outputs": [],
   "source": [
    "df.to_parquet(INTERIM_DATA_PATH+'my_tokenized_data.parquet')"
   ]
  },
  {
   "cell_type": "markdown",
   "metadata": {},
   "source": [
    "<div style=\"background-color: #dd6108; color: #ffffff; padding: 10px;\">\n",
    "<h3>9. Optional: Keeping track of the tokenized data\n",
    "</div>\n",
    "\n",
    "If we want to make experiments with different settings, it would be a great idea to keep track of the settings we use for each configuration, so we can always compare different settings for looking for the best performing combination.\n",
    "\n",
    "> <details>\n",
    "> <summary>About tokenization tracking</summary>\n",
    "> \n",
    "> Tokenization tracking is part of a wider concept called artifact tracking. In the context of MLOps, artifact tracking involves managing and versioning various artifacts, such as trained models, datasets, and preprocessing scripts. It ensures reproducibility and traceability of experiments.\n",
    ">\n",
    "> Tokenization information, along with other preprocessing steps, can be considered artifacts. Tracking these artifacts allows you to understand how data was transformed and processed before being used in model training.\n",
    "> </details>\n",
    "\n",
    "One way of doing it would be by automatically saving metadata about the tokenization process every time we serialize one tokenized dataset to parquet. That way we can reconstruct the same tokenizer configuration we used originally and reuse it for queries or for training even more data.\n",
    "\n",
    "We have implemented as an example the function <kbd>df_pipeline()</kbd> in <kbd>src.normalizing</kbd> that gets as input a dataframe, and the same parameters as the <kbd>normalize()</kbd> function we ave seen before and out puts the dictionary with the parameters and the dataframe with the tokens in the column tokens. "
   ]
  },
  {
   "cell_type": "code",
   "execution_count": null,
   "metadata": {},
   "outputs": [],
   "source": [
    "from src.normalizing import df_pipeline\n",
    "\n",
    "params, df = df_pipeline(df, tkn=tkn, punct_signs=True)"
   ]
  },
  {
   "cell_type": "markdown",
   "metadata": {},
   "source": [
    "We can then pass the dataframe, a file name (wihtout extension) and the parameters dictionary to <kbd>data_logger()</kbd> in <kbd>src.data</kbd> and this function will store the data as a parquet file in <code>data/interim/</code> with the given name, and will store (or update))the metadata in the file <code>data/data.json</code>."
   ]
  },
  {
   "cell_type": "code",
   "execution_count": null,
   "metadata": {},
   "outputs": [],
   "source": [
    "from src.data import data_logger\n",
    "\n",
    "data_logger(df, \"my_tokenized_data.parquet\", params)"
   ]
  },
  {
   "cell_type": "markdown",
   "metadata": {},
   "source": [
    "You can later extract the data and the metadata with the following code:\n",
    "\n",
    "<code>from src.data import data_loader\n",
    "\n",
    "df, params = data_loader(\"my_tokenized_data.parquet\")</code>"
   ]
  }
 ],
 "metadata": {
  "kernelspec": {
   "display_name": "Python 3",
   "language": "python",
   "name": "python3"
  },
  "language_info": {
   "codemirror_mode": {
    "name": "ipython",
    "version": 3
   },
   "file_extension": ".py",
   "mimetype": "text/x-python",
   "name": "python",
   "nbconvert_exporter": "python",
   "pygments_lexer": "ipython3",
   "version": "3.10.14"
  },
  "orig_nbformat": 4
 },
 "nbformat": 4,
 "nbformat_minor": 2
}
