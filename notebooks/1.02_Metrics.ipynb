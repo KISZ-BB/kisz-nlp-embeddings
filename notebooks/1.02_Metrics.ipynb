{
 "cells": [
  {
   "cell_type": "markdown",
   "metadata": {},
   "source": [
    "<div style=\"background-color: #ffffff; color: #000000; padding: 10px;\">\n",
    "<img src=\"../media/img/kisz_logo.png\" width=\"192\" height=\"69\"> \n",
    "<h1> Working with embeddings:\n",
    "<h2> An introductory workshop with applications on Semantic Search\n",
    "</div>"
   ]
  },
  {
   "cell_type": "markdown",
   "metadata": {},
   "source": [
    "<div style=\"background-color: #f6a800; color: #ffffff; padding: 10px;\">\n",
    "<h2>Part 1.2 - Metrics\n",
    "</div>\n",
    "\n",
    "In this section we will briefly talk about the metrics that are common used for measuring the similiraty of vector embeddings, and the tools we will use for implementing them."
   ]
  },
  {
   "cell_type": "code",
   "execution_count": null,
   "metadata": {},
   "outputs": [],
   "source": [
    "import numpy as np\n",
    "import matplotlib.pyplot as plt\n",
    "\n",
    "import nb_config\n",
    "\n",
    "\n",
    "from src.plotting import Plotter"
   ]
  },
  {
   "cell_type": "markdown",
   "metadata": {},
   "source": [
    "<div style=\"background-color: #dd6108; color: #ffffff; padding: 10px;\">\n",
    "<h3>1. Overview\n",
    "</div>\n",
    "\n",
    "**Description of the 3 methods. Plus picture from the powerpoint**\n",
    "\n",
    "To illustrate the different methods, we will use the following vectors:"
   ]
  },
  {
   "cell_type": "code",
   "execution_count": null,
   "metadata": {},
   "outputs": [],
   "source": [
    "# Define vectors A, B, and C in two dimensions\n",
    "A = np.array([1, 7])\n",
    "B = np.array([3, 1])\n",
    "C = np.array([9, 5])\n",
    "\n",
    "Plotter.points([A, B, C])"
   ]
  },
  {
   "cell_type": "markdown",
   "metadata": {},
   "source": [
    "<div style=\"background-color: #dd6108; color: #ffffff; padding: 10px;\">\n",
    "<h3>2. Euclidean Distance\n",
    "</div>\n",
    "\n",
    "Euclidean distance is a measure of the straight-line distance between two points in Euclidean space. It is the distance that we use normally in our daily life.\n",
    "\n",
    "Key points for this metric are:\n",
    "\n",
    "- **Dimensionality Impact**: Sensitive to the dimensionality of the embeddings. Higher-dimensional spaces may result in larger distances.\n",
    "- **Magnitude Information**: Retains information about the magnitude of the vectors.\n",
    "- **Distance range**: The Euclidean distance is always a non-negative real number. The interpretation is such that the smaller the distance, the \"closer\" or more similar the vectors or points are in Euclidean space. Conversely, a larger distance indicates greater dissimilarity or \"distance\" between the vectors or points.\n",
    "\n",
    "For calculating the euclidean distance we will use the <kbd>norm</kbd> function from the <kbd>linalg</kbd> module in Numpy. That function returns the norm of a vector, so for calculating the distance between two vectors we just need to substract them and find the norm of the new vector."
   ]
  },
  {
   "cell_type": "code",
   "execution_count": null,
   "metadata": {},
   "outputs": [],
   "source": [
    "euclid_dist_AB = np.linalg.norm(B - A)\n",
    "euclid_dist_AC = np.linalg.norm(C - A)\n",
    "euclid_dist_BC = np.linalg.norm(C - B)\n",
    "\n",
    "euclid_dist_AB, euclid_dist_AC, euclid_dist_BC"
   ]
  },
  {
   "cell_type": "markdown",
   "metadata": {},
   "source": [
    "We have provided you with a visual help for comparing the vectors with this metric. "
   ]
  },
  {
   "cell_type": "code",
   "execution_count": null,
   "metadata": {},
   "outputs": [],
   "source": [
    "Plotter.euclid_dist([A, B, C])"
   ]
  },
  {
   "cell_type": "markdown",
   "metadata": {},
   "source": [
    "As you can see, with this metric the first two vectors are closer."
   ]
  },
  {
   "cell_type": "markdown",
   "metadata": {},
   "source": [
    "<div style=\"background-color: #dd6108; color: #ffffff; padding: 10px;\">\n",
    "<h3>3. Dot product similarity\n",
    "</div>\n",
    "\n",
    "Dot product similarity is used to determine how similar two vectors are by measuring the inner product (also called dot product) of both vectors. From a geometric perspective, it equals the product of the norm of the longest vector and the norm of the projection of the shorter vector onto the longest one. This metric is used extensively in recommender systems, where the length of the vector represents the popularity of the object.\n",
    "\n",
    "Key points for this metric are:\n",
    "- **Magnitude Impact**: Similar to Euclidean distance, the dot product similarity includes information about the magnitudes of the embeddings.\n",
    "- **Semantic Information**: Captures the semantic information through the cosine of the angle.\n",
    "- **Similarity Range**: The dot product similarity can have any real value, and the highest the value, the more similar the vectors are.\n",
    "\n",
    "For calculating the dot product similarity we will use the <kbd>dot</kbd> function from Numpy. That function returns the dot product of two vectors."
   ]
  },
  {
   "cell_type": "code",
   "execution_count": null,
   "metadata": {},
   "outputs": [],
   "source": [
    "dotprod_AB = np.dot(A, B)\n",
    "dotprod_AC = np.dot(A, C)\n",
    "dotprod_BC = np.dot(B, C)\n",
    "\n",
    "dotprod_AB, dotprod_AC, dotprod_BC"
   ]
  },
  {
   "cell_type": "markdown",
   "metadata": {},
   "source": [
    "We have provided you with a visual help for comparing the vectors with this metric. "
   ]
  },
  {
   "cell_type": "code",
   "execution_count": null,
   "metadata": {},
   "outputs": [],
   "source": [
    "Plotter.dotprod_dist([A, B, C])"
   ]
  },
  {
   "cell_type": "markdown",
   "metadata": {},
   "source": [
    "As you can see, with this metric the first and the last vectors are more similar."
   ]
  },
  {
   "cell_type": "markdown",
   "metadata": {},
   "source": [
    "<div style=\"background-color: #dd6108; color: #ffffff; padding: 10px;\">\n",
    "<h3>4. Cosine similarity\n",
    "</div>\n",
    "\n",
    "Cosine similarity is used to determine how similar two vectors are by measuring the cosine of the angle between them. The resulting similarity ranges from -1 (completely dissimilar) to 1 (completely similar). A cosine similarity of 0 indicates orthogonality, meaning the vectors are perpendicular.\n",
    "\n",
    "Key points for this metric are:\n",
    "- **Scale-Invariance**: Being insensitive to the scale of embeddings, cosine similarity is well-suited for comparing vectors with different magnitudes.\n",
    "- **Directional Measure**: Focuses on the directional aspect, capturing the angle between vectors rather than their absolute magnitudes.\n",
    "- **Range**: Cosine similarity outputs values between -1 (indicating opposite directions) and 1 (indicating identical directions), with 0 denoting orthogonality or dissimilarity.\n",
    "\n",
    "For calculating the cosine similarity we can use the two functions that we have used for the other metrics or the <kbd>cosine_similarity</kbd> function from the module <kbd>metrics.pairwise</kbd> in Scikit-Learn (its use will be prefered here for its simplicity). This last function returns the cosine similarity of two matrices. We will have then to adjust our vectors in order to be passed as arguments of the function. The output is also an array."
   ]
  },
  {
   "cell_type": "code",
   "execution_count": null,
   "metadata": {},
   "outputs": [],
   "source": [
    "from sklearn.metrics.pairwise import cosine_similarity\n",
    "\n",
    "# With the functions we used for \n",
    "cos_simil_AB = np.dot(A, B) / (np.linalg.norm(A) * np.linalg.norm(B))\n",
    "\n",
    "# Our prefered choice, with cosine_similarity from scikit-learn\n",
    "cos_simil_AB = cosine_similarity([A], [B])\n",
    "cos_simil_AC = cosine_similarity([A], [C])\n",
    "cos_simil_BC = cosine_similarity([B], [C])\n",
    "\n",
    "cos_simil_AB.item(), cos_simil_AC.item(), cos_simil_BC.item()"
   ]
  },
  {
   "cell_type": "markdown",
   "metadata": {},
   "source": [
    "We have provided you with a visual help for comparing the vectors with this metric. "
   ]
  },
  {
   "cell_type": "code",
   "execution_count": null,
   "metadata": {},
   "outputs": [],
   "source": [
    "Plotter.cosine_dist([A, B, C])"
   ]
  },
  {
   "cell_type": "markdown",
   "metadata": {},
   "source": [
    "As you can see, with this metric the last two vectors are more similar."
   ]
  },
  {
   "cell_type": "markdown",
   "metadata": {},
   "source": [
    "<div style=\"background-color: #dd6108; color: #ffffff; padding: 10px;\">\n",
    "<h3>5. Try it yourself...\n",
    "</div>\n",
    "\n",
    "You can try to get a feeling about how these metrics work"
   ]
  },
  {
   "cell_type": "code",
   "execution_count": null,
   "metadata": {},
   "outputs": [],
   "source": [
    "# Define your own vectors A, B, and C\n",
    "A = np.array([1, 7])\n",
    "B = np.array([3, 1])\n",
    "C = np.array([9, 5])"
   ]
  },
  {
   "cell_type": "markdown",
   "metadata": {},
   "source": [
    "Calculate the different metrics with\n",
    "\n",
    "> ```python\n",
    "> euclid_dist_AB = np.linalg.norm(B - A) # Calculates the euclidean distance\n",
    "> dotprod_AB = np.dot(A, B) # Calculates the dot product similarity\n",
    "> cos_simil_AB = cosine_similarity([A], [B]) # Calculates the cosine similarity\n",
    "> ```\n",
    "\n",
    "Visualize the metrics with\n",
    "\n",
    "> ```python\n",
    "> Plotter.points([A, B, C]) # Shows the vectors\n",
    "> Plotter.euclid_dist([A, B, C]) # Shows the euclidean distance\n",
    "> Plotter.dotprod_dist([A, B, C]) # Shows the dot product similarity\n",
    "> Plotter.cosine_dist([A, B, C]) # Shows the cosine similarity\n",
    "> ```\n"
   ]
  },
  {
   "cell_type": "code",
   "execution_count": null,
   "metadata": {},
   "outputs": [],
   "source": [
    "# your code here"
   ]
  }
 ],
 "metadata": {
  "kernelspec": {
   "display_name": "Python 3",
   "language": "python",
   "name": "python3"
  },
  "language_info": {
   "codemirror_mode": {
    "name": "ipython",
    "version": 3
   },
   "file_extension": ".py",
   "mimetype": "text/x-python",
   "name": "python",
   "nbconvert_exporter": "python",
   "pygments_lexer": "ipython3",
   "version": "3.10.13"
  },
  "orig_nbformat": 4
 },
 "nbformat": 4,
 "nbformat_minor": 2
}
