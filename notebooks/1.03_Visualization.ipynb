{
 "cells": [
  {
   "cell_type": "markdown",
   "metadata": {},
   "source": [
    "<div style=\"background-color: #ffffff; color: #000000; padding: 10px;\">\n",
    "<img src=\"../media/img/kisz_logo.png\" width=\"192\" height=\"69\"> \n",
    "<h1> Working with embeddings:\n",
    "<h2>An introductory workshop with applications on Semantic Search\n",
    "</div>"
   ]
  },
  {
   "cell_type": "markdown",
   "metadata": {},
   "source": [
    "<div style=\"background-color: #f6a800; color: #ffffff; padding: 10px;\">\n",
    "<h2>Part Part 1.3 - Visualization of embeddings\n",
    "</div>\n",
    "\n",
    "In this section we will briefly talk about the tools we will use for reducing our multidimensional embeddings into 2 or 3 dimensions, so we can visualize them."
   ]
  },
  {
   "cell_type": "code",
   "execution_count": null,
   "metadata": {},
   "outputs": [],
   "source": [
    "import matplotlib.pyplot as plt\n",
    "import plotly.express as px\n",
    "import seaborn as sns\n",
    "\n",
    "import os\n",
    "os.environ['LOKY_MAX_CPU_COUNT'] = '2'  # Change '2' to your desired number of cores\n",
    "\n",
    "import nb_config\n",
    "\n",
    "import warnings\n",
    "warnings.filterwarnings('ignore')\n",
    "\n",
    "from src.data import MNISTData"
   ]
  },
  {
   "cell_type": "markdown",
   "metadata": {},
   "source": [
    "<div style=\"background-color: #dd6108; color: #ffffff; padding: 10px;\">\n",
    "<h3>1. Overview\n",
    "</div>\n",
    "\n",
    "In the next sections we are going to introduce three different techniques for reducing the number of dimensions of our embeddings and we will show how to use them. Each technique brings its unique strengths and limitations to the table. The choice among PCA, t-SNE, and UMAP ultimately depends on the specific characteristics of the data and the goals of the analysis.\n",
    "\n",
    "For pedagogical reasons we will show these techniques with vectors generated from tabular data, specifically from the test set of the [UCI ML hand-written digits datasets](https://archive.ics.uci.edu/dataset/80/optical+recognition+of+handwritten+digits), that can be found in SciKit-Learn. The dataset consists of a training set with 60,000 examples and a test set with 10,000 examples. Each example is a 28x28 pixel grayscale image of a handwritten digit (0 through 9), and the images are accompanied by corresponding labels indicating the actual digit they represent. We will work only with the training data and use the 28x28 pixel information for each sample as our vectors.\n",
    "\n",
    "Our first step will be loading the dataset."
   ]
  },
  {
   "cell_type": "code",
   "execution_count": null,
   "metadata": {},
   "outputs": [],
   "source": [
    "mnist = MNISTData()\n",
    "\n",
    "vectors, labels = mnist.get_train_data()"
   ]
  },
  {
   "cell_type": "markdown",
   "metadata": {},
   "source": [
    "<div style=\"background-color: #dd6108; color: #ffffff; padding: 10px;\">\n",
    "<h3>2. Principal Component Analysis (PCA)\n",
    "</div>\n",
    "\n",
    "PCA is a dimensionality reduction technique and works by identifying the principal components (eigenvectors) that capture the most significant variance in the word embedding space. By selecting a subset of these components, it reduces the dimensionality of the word embeddings.\n",
    "\n",
    "PCA is computationally efficient, making it suitable for large datasets and facilitating quicker analyses. Additionally, it provides a linear transformation that maximizes variance, thereby preserving the overall structure of the data. This quality makes PCA particularly effective in capturing the primary sources of variation in a dataset.\n",
    "\n",
    "However, PCA comes with its set of limitations. Notably, it assumes linearity, making it less suitable for datasets with complex, non-linear relationships. Moreover, PCA prioritizes global structures, potentially overlooking intricate local patterns within the data. This lack of sensitivity to local relationships can be a drawback when trying to reveal finer details or clusters in the dataset.\n",
    "\n",
    "Let's see how can we use it."
   ]
  },
  {
   "cell_type": "code",
   "execution_count": null,
   "metadata": {},
   "outputs": [],
   "source": [
    "import pandas as pd\n",
    "from sklearn.decomposition import PCA\n",
    "\n",
    "pca = PCA(n_components=2)\n",
    "components = pca.fit_transform(vectors)\n",
    "\n",
    "# Convert to data frame\n",
    "pca_df = pd.DataFrame(data = components, columns = ['PC1', 'PC2'])\n",
    "pca_df.loc[:,'Label'] = labels\n",
    "\n",
    "# Shape and preview\n",
    "print(pca_df.shape)\n",
    "pca_df.head()"
   ]
  },
  {
   "cell_type": "markdown",
   "metadata": {},
   "source": [
    "We will use now the libraries <kbd>matplotlib</kbd> and <kbd>seaborn</kbd> for plotting the new vectors and give all examples with the same label (aka number) the same color."
   ]
  },
  {
   "cell_type": "code",
   "execution_count": null,
   "metadata": {},
   "outputs": [],
   "source": [
    "# Set up Seaborn with a color palette\n",
    "sns.set(style=\"whitegrid\", palette=\"tab10\")\n",
    "\n",
    "# Create a scatter plot with Seaborn\n",
    "plt.figure(figsize=(10, 8))\n",
    "sns.scatterplot(x='PC1', y='PC2', hue='Label', data=pca_df, palette=\"tab10\", alpha=0.7, legend='full')\n",
    "\n",
    "# Add labels and legend\n",
    "plt.title('MNIST Dataset - 2D Projection with PCA')\n",
    "plt.xlabel('Principal Component 1')\n",
    "plt.ylabel('Principal Component 2')\n",
    "plt.legend(title='Number', bbox_to_anchor=(1.05, 1), loc='upper left')\n",
    "\n",
    "# plt.savefig('../media/img/pca_2d.png', bbox_inches='tight')\n",
    "plt.show();"
   ]
  },
  {
   "cell_type": "markdown",
   "metadata": {},
   "source": [
    "> <details>\n",
    "> <summary>If the code worked properly...</summary>\n",
    "> \n",
    "> you should see something like this:\n",
    ">\n",
    "> ![MNIST Dataset - 2D Projection with PCA](../media/img/pca_2d.png \"MNIST Dataset - 2D Projection with PCA\")\n",
    "> </details>\n",
    "\n",
    "\n",
    "For 3D it is not very different, but this time we will plot it interactively with the library <kbd>plotly</kbd>."
   ]
  },
  {
   "cell_type": "code",
   "execution_count": null,
   "metadata": {},
   "outputs": [],
   "source": [
    "pca = PCA(n_components=3)\n",
    "components = pca.fit_transform(vectors)\n",
    "\n",
    "pca_df = pd.DataFrame(data = components, columns = ['PC1', 'PC2', 'PC3'])\n",
    "pca_df.loc[:,'Label'] = labels\n",
    "\n",
    "# 3D scatterplot\n",
    "fig = px.scatter_3d(\n",
    "    pca_df, x='PC1', y='PC2', z='PC3', color='Label', opacity = 1,\n",
    "    title='MNIST Dataset - 3D Projection with PCA',\n",
    "    labels={'PC1': 'Principal Component 1', 'PC2': 'Principal Component 2', 'PC3': 'Principal Component 3'},\n",
    "    width=1000, height=800\n",
    ")\n",
    "\n",
    "fig.update_traces(marker=dict(size=12,\n",
    "                              line=dict(width=2,\n",
    "                                        color='DarkSlateGrey')),\n",
    "                  selector=dict(mode='markers'))\n",
    "\n",
    "# fig.write_html('../media/html/t-sne_3d.html')\n",
    "fig.show()"
   ]
  },
  {
   "cell_type": "markdown",
   "metadata": {},
   "source": [
    "If you can't see the visualization you can access a saved copy in html by uncommenting the code that corresponds to your OS."
   ]
  },
  {
   "cell_type": "code",
   "execution_count": null,
   "metadata": {},
   "outputs": [],
   "source": [
    "# Windows users:\n",
    "# !start ../media/html/pca_3d.html\n",
    "\n",
    "# iOS users:\n",
    "# !open ../media/html/pca_3d.html\n",
    "\n",
    "# Linux users:\n",
    "# !xdg-open f../media/html/pca_3d.html"
   ]
  },
  {
   "cell_type": "markdown",
   "metadata": {},
   "source": [
    "<div style=\"background-color: #dd6108; color: #ffffff; padding: 10px;\">\n",
    "<h3>3. t-distributed Stochastic Neighbor Embedding (t-SNE)\n",
    "</div>"
   ]
  },
  {
   "cell_type": "markdown",
   "metadata": {},
   "source": [
    "t-Distributed Stochastic Neighbor Embedding (t-SNE) is a dimensionality reduction technique widely employed for visualizing high-dimensional data in lower-dimensional spaces, typically 2D or 3D. t-SNE excels at revealing intricate patterns and structures within the data.\n",
    "\n",
    "One key characteristic of t-SNE is its focus on preserving local structures, making it particularly effective in visualizing clusters and capturing the relationships between nearby data points. However, t-SNE is computationally intensive and sensitive to the choice of hyperparameters, requiring careful tuning for optimal results. Despite its computational demands, t-SNE has become a valuable tool in exploratory data analysis and pattern recognition, providing insights into the underlying structures of complex datasets.\n",
    "\n",
    "The drawback of t-SNE lies in its computational intensity and sensitivity to hyperparameters, potentially leading to lengthy processing times and challenges in achieving optimal results.\n",
    "\n",
    "> <details>\n",
    "> <summary>But how does it work?</summary>\n",
    "> \n",
    "> The underlying mechanism of t-SNE involves modeling the similarity relationships between data points in the high-dimensional space and the corresponding low-dimensional space. Initially, t-SNE defines conditional probabilities that represent pairwise similarities between points in the high-dimensional space. Subsequently, it defines similar conditional probabilities for the low-dimensional space. The algorithm then iteratively adjusts the positions of points in the low-dimensional space to minimize the discrepancy between the two sets of probabilities.\n",
    "> </details>\n",
    "\n",
    "There are a lot of implementations of this method. We will use the implementation included in the <kbd>scikit-learn</kbd> framework.\n",
    "\n",
    "<div style=\"background-color: #b1063a; color: #ffffff; padding: 10px;\">\n",
    "<strong>WARNING</strong>:\n",
    "\n",
    "The following code demands significant computational resources and may take considerable time to execute. For a smoother workshop experience, please avoid running the cell.\n",
    "Nevertheless, We encourage you to try it at home, so you can gain insights into its functionality and processing time.\n",
    "</div>\n",
    "\n",
    "\n"
   ]
  },
  {
   "cell_type": "code",
   "execution_count": null,
   "metadata": {},
   "outputs": [],
   "source": [
    "from sklearn.manifold import TSNE\n",
    "\n",
    "tsne = TSNE(n_components=2, n_jobs=-1)\n",
    "components = tsne.fit_transform(vectors)\n",
    "\n",
    "# Convert to data frame\n",
    "tsne_df = pd.DataFrame(data = components, columns = ['t-SNE Component 1', 't-SNE Component 2'])\n",
    "tsne_df.loc[:,'Label'] = labels\n",
    "\n",
    "# Shape and preview\n",
    "print(tsne_df.shape)\n",
    "tsne_df.head()"
   ]
  },
  {
   "cell_type": "markdown",
   "metadata": {},
   "source": [
    "Time to visualize the reduced embeddings, as we did before.\n",
    "\n",
    "<div style=\"background-color: #b1063a; color: #ffffff; padding: 10px;\">\n",
    "<strong>Reminder</strong>:\n",
    "\n",
    "Obviously, the code will not work if you didn't execute the last cell, so if this was the case don't bother trying...\n",
    "\n",
    "> <details>\n",
    "> <summary>But hey, we have you covered.</summary>\n",
    ">\n",
    "> That's how it should look like\n",
    "> \n",
    "> ![MNIST Dataset - 2D Projection with t-SNE](../media/img/t-sne_2d.png \"MNIST Dataset - 2D Projection with t-SNE\")\n",
    "\n",
    "</div>"
   ]
  },
  {
   "cell_type": "code",
   "execution_count": null,
   "metadata": {},
   "outputs": [],
   "source": [
    "# Set up Seaborn with a color palette\n",
    "sns.set(style=\"whitegrid\", palette=\"tab10\")\n",
    "\n",
    "# Create a scatter plot with Seaborn\n",
    "plt.figure(figsize=(10, 8))\n",
    "sns.scatterplot(x='t-SNE Component 1', y='t-SNE Component 2', hue='Label', data=tsne_df, palette=\"tab10\", alpha=0.7, legend='full')\n",
    "\n",
    "# Add labels and legend\n",
    "plt.title('MNIST Dataset - 2D Projection with t-SNE')\n",
    "plt.xlabel('t-SNE Component 1')\n",
    "plt.ylabel('t-SNE Component 2')\n",
    "plt.legend(title='Number', bbox_to_anchor=(1.05, 1), loc='upper left')\n",
    "\n",
    "# plt.savefig('../media/img/t-sne_2d.png', bbox_inches='tight')\n",
    "plt.show();"
   ]
  },
  {
   "cell_type": "markdown",
   "metadata": {},
   "source": [
    "We can try now projecting the vectors into 3 dimensions with t-SNE.\n",
    "\n",
    "<div style=\"background-color: #b1063a; color: #ffffff; padding: 10px;\">\n",
    "<strong>WARNING</strong>:\n",
    "\n",
    "Yes, you guessed well. This is going to take even longer. So, don't try it during the workshop and keep it for home.\n",
    "</div>"
   ]
  },
  {
   "cell_type": "code",
   "execution_count": null,
   "metadata": {},
   "outputs": [],
   "source": [
    "tsne = TSNE(n_components=3)\n",
    "components = tsne.fit_transform(vectors)\n",
    "\n",
    "# Convert to data frame\n",
    "tsne_df = pd.DataFrame(data = components, columns = ['t-SNE Component 1', 't-SNE Component 2', 't-SNE Component 3'])\n",
    "tsne_df.loc[:,'Label'] = labels\n",
    "\n",
    "# Shape and preview\n",
    "print(tsne_df.shape)\n",
    "tsne_df.head()"
   ]
  },
  {
   "cell_type": "markdown",
   "metadata": {},
   "source": [
    "And we want to visualize it too, of course. The next code would do the trick.\n",
    "\n",
    "<div style=\"background-color: #b1063a; color: #ffffff; padding: 10px;\">\n",
    "<strong>Reminder</strong>:\n",
    "\n",
    "Yes, the same story. Don't run the cell if you didn't run the previous one. But I guess you know that by now...\n",
    "\n",
    "</div>"
   ]
  },
  {
   "cell_type": "code",
   "execution_count": null,
   "metadata": {},
   "outputs": [],
   "source": [
    "# 3D scatterplot\n",
    "fig = px.scatter_3d(\n",
    "    tsne_df, x='t-SNE Component 1', y='t-SNE Component 2', z='t-SNE Component 3', color='Label', opacity = 1,\n",
    "    title='MNIST Dataset - 3d Projection with t-SNE',\n",
    "    width=1000, height=800\n",
    ")\n",
    "\n",
    "fig.update_traces(marker=dict(size=12,\n",
    "                              line=dict(width=2,\n",
    "                                        color='DarkSlateGrey')),\n",
    "                  selector=dict(mode='markers'))\n",
    "\n",
    "# fig.write_html('../media/html/t-sne_3d.html')\n",
    "fig.show();"
   ]
  },
  {
   "cell_type": "markdown",
   "metadata": {},
   "source": [
    "If you can't see the visualization or didn't run the last code cells, you can access a saved copy in html by uncommenting the code that corresponds to your OS."
   ]
  },
  {
   "cell_type": "code",
   "execution_count": null,
   "metadata": {},
   "outputs": [],
   "source": [
    "# Windows users:\n",
    "# !start ../media/html/t-sne_3d.html\n",
    "\n",
    "# iOS users:\n",
    "# !open ../media/html/t-sne_3d.html\n",
    "\n",
    "# Linux users:\n",
    "# !xdg-open f../media/html/t-sne_3d.html"
   ]
  },
  {
   "cell_type": "markdown",
   "metadata": {},
   "source": [
    "<div style=\"background-color: #dd6108; color: #ffffff; padding: 10px;\">\n",
    "<h3>4. Uniform Manifold Approximation and Projection (UMAP)\n",
    "</div>\n",
    "\n"
   ]
  },
  {
   "cell_type": "markdown",
   "metadata": {},
   "source": [
    "Uniform Manifold Approximation and Projection (UMAP) is a dimensionality reduction technique designed to capture both local and global structures within high-dimensional data. UMAP has gained popularity for its ability to offer a balance between preserving intricate patterns and efficiently handling computational demands.\n",
    "\n",
    "UMAP operates by constructing a low-dimensional representation that minimizes the discrepancy between pairwise similarities in the high-dimensional and low-dimensional spaces. Notably, UMAP excels in capturing fine-grained details and preserving complex relationships, making it a valuable tool for exploratory data analysis.\n",
    "\n",
    "Despite its strengths, UMAP, like t-SNE, requires careful consideration of hyperparameters, although it generally exhibits better scalability.\n",
    "\n",
    "We can try it with the following code:"
   ]
  },
  {
   "cell_type": "code",
   "execution_count": null,
   "metadata": {},
   "outputs": [],
   "source": [
    "import umap\n",
    "import umap.plot\n",
    "import pandas as pd\n",
    "\n",
    "um = umap.UMAP(n_components=2)\n",
    "X_fit = um.fit(vectors)\n",
    "components = um.transform(vectors)\n",
    "\n",
    "# Convert to data frame\n",
    "umap_df = pd.DataFrame(data = components, columns = ['UMAP1', 'UMAP2'])\n",
    "umap_df.loc[:,'Label'] = labels\n",
    "\n",
    "# Shape and preview\n",
    "print(umap_df.shape)\n",
    "umap_df.head()"
   ]
  },
  {
   "cell_type": "markdown",
   "metadata": {},
   "source": [
    "And now let's visualize it."
   ]
  },
  {
   "cell_type": "code",
   "execution_count": null,
   "metadata": {},
   "outputs": [],
   "source": [
    "# Set up Seaborn with a color palette\n",
    "sns.set(style=\"whitegrid\", palette=\"tab10\")\n",
    "\n",
    "# Create a scatter plot with Seaborn\n",
    "plt.figure(figsize=(10, 8))\n",
    "sns.scatterplot(x='UMAP1', y='UMAP2', hue='Label', data=umap_df, palette=\"tab10\", alpha=0.7, legend='full')\n",
    "\n",
    "# Add labels and legend\n",
    "plt.title('MNIST Dataset - 2D Projection with UMAP')\n",
    "plt.xlabel('UMAP Component 1')\n",
    "plt.ylabel('UMAP Component 2')\n",
    "plt.legend(title='Number', bbox_to_anchor=(1.05, 1), loc='upper left')\n",
    "\n",
    "# plt.savefig('../media/img/umap_2d.png', bbox_inches='tight')\n",
    "plt.show();"
   ]
  },
  {
   "cell_type": "markdown",
   "metadata": {},
   "source": [
    ">\n",
    "> <details>\n",
    "> <summary>If the code worked properly...</summary>\n",
    "> \n",
    "> you should see something like this:\n",
    ">\n",
    "> ![MNIST Dataset - 2D Projection with UMAP](../media/img/umap_2d.png \"MNIST Dataset - 2D Projection with UMAP\")\n",
    "\n",
    "In order to reduce the vectors to 3 dimensions, you can use:"
   ]
  },
  {
   "cell_type": "code",
   "execution_count": null,
   "metadata": {},
   "outputs": [],
   "source": [
    "um = umap.UMAP(n_components=3)\n",
    "X_fit = um.fit(vectors)\n",
    "components = um.transform(vectors)\n",
    "\n",
    "# Convert to data frame\n",
    "umap_df = pd.DataFrame(data = components, columns = ['UMAP1', 'UMAP2', 'UMAP3'])\n",
    "umap_df.loc[:,'Label'] = labels\n",
    "\n",
    "# Shape and preview\n",
    "print(umap_df.shape)\n",
    "umap_df.head()"
   ]
  },
  {
   "cell_type": "markdown",
   "metadata": {},
   "source": [
    "Let's see how does it look like."
   ]
  },
  {
   "cell_type": "code",
   "execution_count": 19,
   "metadata": {},
   "outputs": [],
   "source": [
    "# 3D scatterplot\n",
    "fig = px.scatter_3d(\n",
    "    umap_df, x='UMAP1', y='UMAP2', z='UMAP3', color='Label', opacity = 1,\n",
    "    title='MNIST Dataset - 3d Projection with UMAP',\n",
    "    width=1000, height=800\n",
    ")\n",
    "\n",
    "fig.update_traces(marker=dict(size=12,\n",
    "                              line=dict(width=2,\n",
    "                                        color='DarkSlateGrey')),\n",
    "                  selector=dict(mode='markers'))\n",
    "\n",
    "# fig.write_html('../media/html/umap_3d.html')\n",
    "fig.show()"
   ]
  },
  {
   "cell_type": "markdown",
   "metadata": {},
   "source": [
    "If you can't see the visualization or didn't run the last code cells, you can access a saved copy in html by uncommenting the code that corresponds to your OS."
   ]
  },
  {
   "cell_type": "code",
   "execution_count": null,
   "metadata": {},
   "outputs": [],
   "source": [
    "# Windows users:\n",
    "# !start ../media/html/umap_3d.html\n",
    "\n",
    "# iOS users:\n",
    "# !open ../media/html/umap_3d.html\n",
    "\n",
    "# Linux users:\n",
    "# !xdg-open f../media/html/umap_3d.html"
   ]
  }
 ],
 "metadata": {
  "kernelspec": {
   "display_name": "Python 3",
   "language": "python",
   "name": "python3"
  },
  "language_info": {
   "codemirror_mode": {
    "name": "ipython",
    "version": 3
   },
   "file_extension": ".py",
   "mimetype": "text/x-python",
   "name": "python",
   "nbconvert_exporter": "python",
   "pygments_lexer": "ipython3",
   "version": "3.10.13"
  },
  "orig_nbformat": 4
 },
 "nbformat": 4,
 "nbformat_minor": 2
}
